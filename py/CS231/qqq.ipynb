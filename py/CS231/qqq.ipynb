{
 "cells": [
  {
   "cell_type": "markdown",
   "metadata": {},
   "source": [
    "<div align=\"center\">\n",
    "    <h1 style=\"font-family: 黑体; color: red;\">图像分类</h1>\n",
    "</div>\n",
    "\n",
    "# Nearest Neighbor Classifier\n",
    "L1 $distance: d_1(I_1, I_2) = \\sum_{p} |I_1^p - I_2^p|$\n",
    "\n",
    "L2 $distance: d_2(I_1, I_2) = \\sqrt{\\sum_{p} (I_1^p - I_2^p)^2}$"
   ]
  },
  {
   "cell_type": "code",
   "execution_count": 4,
   "metadata": {},
   "outputs": [
    {
     "name": "stdout",
     "output_type": "stream",
     "text": [
      "训练集形状: (50000, 32, 32, 3) (50000, 1)\n",
      "测试集形状: (10000, 32, 32, 3) (10000, 1)\n",
      "CIFAR-10 类别: ['airplane', 'automobile', 'bird', 'cat', 'deer', 'dog', 'frog', 'horse', 'ship', 'truck']\n"
     ]
    }
   ],
   "source": [
    "import tensorflow as tf\n",
    "from tensorflow.keras.datasets import cifar10\n",
    "\n",
    "# 下载数据\n",
    "(x_train, y_train), (x_test, y_test) = cifar10.load_data()\n",
    "\n",
    "# 打印数据形状\n",
    "print(\"训练集形状:\", x_train.shape, y_train.shape)  # (50000, 32, 32, 3), (50000, 1)\n",
    "print(\"测试集形状:\", x_test.shape, y_test.shape)    # (10000, 32, 32, 3), (10000, 1)\n",
    "\n",
    "# CIFAR-10 类别\n",
    "classes = [\"airplane\", \"automobile\", \"bird\", \"cat\", \"deer\", \"dog\", \"frog\", \"horse\", \"ship\", \"truck\"]\n",
    "print(\"CIFAR-10 类别:\", classes)\n"
   ]
  },
  {
   "cell_type": "code",
   "execution_count": null,
   "metadata": {},
   "outputs": [
    {
     "name": "stderr",
     "output_type": "stream",
     "text": [
      "C:\\Users\\19434\\AppData\\Local\\Temp\\ipykernel_6804\\878385365.py:23: DeprecationWarning: Conversion of an array with ndim > 0 to a scalar is deprecated, and will error in future. Ensure you extract a single element from your array before performing this operation. (Deprecated NumPy 1.25.)\n",
      "  ypred[i] = self.Ytr[min_index]\n"
     ]
    }
   ],
   "source": [
    "import numpy as np\n",
    "from tensorflow.keras.datasets import cifar10\n",
    "(x_train, y_train), (x_test, y_test) = cifar10.load_data()\n",
    "\n",
    "Xtr=x_train.reshape(x_train.shape[0],32*32*3)\n",
    "# 转换为50000行，3072列的矩阵\n",
    "Xte=x_test.reshape(x_test.shape[0],32*32*3)\n",
    "# NearestNeighbor 类\n",
    "class nn():\n",
    "    def __init__(self):\n",
    "        pass\n",
    "    def train (self,X,Y):\n",
    "        self.Xtr=X\n",
    "        self.Ytr=Y\n",
    "    def predict(self,X):\n",
    "        num_test = X.shape[0]\n",
    "        ypred= np.zeros(num_test,dtype=self.Ytr.dtype)\n",
    "        for i in range(num_test):\n",
    "            distances = np.sum(np.abs(self.Xtr - X[i,:]), axis = 1)\n",
    "            #训练集的单行表示一张图片 每一列表示一个特征值 第i张图片与所有图片作绝对差值 求和 axis=1表示按行求和 得到特征值的差的和\n",
    "            min_index = np.argmin(distances)\n",
    "            #找到距离最小的索引i\n",
    "            ypred[i] = self.Ytr[min_index]\n",
    "        return ypred\n",
    "nn1=nn()\n",
    "nn1.train(Xtr,y_train)\n",
    "Yte_predict=nn1.predict(Xte)\n",
    "print(Yte_predict)"
   ]
  }
 ],
 "metadata": {
  "kernelspec": {
   "display_name": "nnl",
   "language": "python",
   "name": "python3"
  },
  "language_info": {
   "codemirror_mode": {
    "name": "ipython",
    "version": 3
   },
   "file_extension": ".py",
   "mimetype": "text/x-python",
   "name": "python",
   "nbconvert_exporter": "python",
   "pygments_lexer": "ipython3",
   "version": "3.10.13"
  }
 },
 "nbformat": 4,
 "nbformat_minor": 2
}
